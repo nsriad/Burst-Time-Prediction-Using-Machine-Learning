{
 "cells": [
  {
   "cell_type": "markdown",
   "metadata": {
    "id": "B0QLmjMWEdKO"
   },
   "source": [
    "# **1. Load and Explore the Dataset**"
   ]
  },
  {
   "cell_type": "markdown",
   "metadata": {
    "id": "RsBBIdPaEuvU"
   },
   "source": [
    "## **1.1 Load Required Libraries**"
   ]
  },
  {
   "cell_type": "code",
   "execution_count": 1,
   "metadata": {},
   "outputs": [
    {
     "name": "stdout",
     "output_type": "stream",
     "text": [
      "\u001b[31mERROR: pip's dependency resolver does not currently take into account all the packages that are installed. This behaviour is the source of the following dependency conflicts.\r\n",
      "generate-parameter-library-py 0.4.0 requires pyyaml, which is not installed.\r\n",
      "generate-parameter-library-py 0.4.0 requires typeguard, which is not installed.\u001b[0m\u001b[31m\r\n",
      "\u001b[0m"
     ]
    }
   ],
   "source": [
    "!pip install pandas matplotlib seaborn scikit-learn torch -q"
   ]
  },
  {
   "cell_type": "code",
   "execution_count": 4,
   "metadata": {},
   "outputs": [],
   "source": []
  },
  {
   "cell_type": "code",
   "execution_count": 1,
   "metadata": {
    "id": "q8h4L53y5uUV"
   },
   "outputs": [],
   "source": [
    "import pandas as pd\n",
    "import numpy as np\n",
    "import matplotlib.pyplot as plt\n",
    "import seaborn as sns\n",
    "from sklearn.model_selection import train_test_split\n",
    "from sklearn.preprocessing import LabelEncoder\n",
    "from sklearn.metrics import mean_absolute_error, r2_score\n",
    "import torch\n",
    "import torch.nn as nn\n",
    "from torch.utils.data import Dataset, DataLoader"
   ]
  },
  {
   "cell_type": "markdown",
   "metadata": {
    "id": "mZ9zrRboEyNc"
   },
   "source": [
    "## **1.2: Load First 5000 Rows of Dataset**"
   ]
  },
  {
   "cell_type": "code",
   "execution_count": 2,
   "metadata": {
    "colab": {
     "base_uri": "https://localhost:8080/",
     "height": 290
    },
    "id": "PUhAVrHVErrO",
    "outputId": "a18929ca-39e9-4e8c-d3b5-5d70e62d4c1e"
   },
   "outputs": [
    {
     "name": "stdout",
     "output_type": "stream",
     "text": [
      "Shape: (404176, 29)\n"
     ]
    },
    {
     "data": {
      "text/html": [
       "<div>\n",
       "<style scoped>\n",
       "    .dataframe tbody tr th:only-of-type {\n",
       "        vertical-align: middle;\n",
       "    }\n",
       "\n",
       "    .dataframe tbody tr th {\n",
       "        vertical-align: top;\n",
       "    }\n",
       "\n",
       "    .dataframe thead th {\n",
       "        text-align: right;\n",
       "    }\n",
       "</style>\n",
       "<table border=\"1\" class=\"dataframe\">\n",
       "  <thead>\n",
       "    <tr style=\"text-align: right;\">\n",
       "      <th></th>\n",
       "      <th>JobID</th>\n",
       "      <th>SubmitTime</th>\n",
       "      <th>WaitTime</th>\n",
       "      <th>RunTime</th>\n",
       "      <th>NProcs</th>\n",
       "      <th>AverageCPUTimeUsed</th>\n",
       "      <th>Used Memory</th>\n",
       "      <th>ReqNProcs</th>\n",
       "      <th>ReqTime:</th>\n",
       "      <th>ReqMemory</th>\n",
       "      <th>...</th>\n",
       "      <th>JobStructureParams</th>\n",
       "      <th>UsedNetwork</th>\n",
       "      <th>UsedLocalDiskSpace</th>\n",
       "      <th>UsedResources</th>\n",
       "      <th>ReqPlatform</th>\n",
       "      <th>ReqNetwork</th>\n",
       "      <th>ReqLocalDiskSpace</th>\n",
       "      <th>ReqResources</th>\n",
       "      <th>VOID</th>\n",
       "      <th>ProjectID</th>\n",
       "    </tr>\n",
       "  </thead>\n",
       "  <tbody>\n",
       "    <tr>\n",
       "      <th>0</th>\n",
       "      <td>1</td>\n",
       "      <td>1136070024</td>\n",
       "      <td>203761</td>\n",
       "      <td>138467</td>\n",
       "      <td>1</td>\n",
       "      <td>138371</td>\n",
       "      <td>98652</td>\n",
       "      <td>1</td>\n",
       "      <td>259200</td>\n",
       "      <td>-1</td>\n",
       "      <td>...</td>\n",
       "      <td>-1</td>\n",
       "      <td>-1</td>\n",
       "      <td>-1</td>\n",
       "      <td>-1</td>\n",
       "      <td>-1</td>\n",
       "      <td>-1</td>\n",
       "      <td>-1</td>\n",
       "      <td>-1</td>\n",
       "      <td>-1</td>\n",
       "      <td>-1</td>\n",
       "    </tr>\n",
       "    <tr>\n",
       "      <th>1</th>\n",
       "      <td>2</td>\n",
       "      <td>1136070690</td>\n",
       "      <td>0</td>\n",
       "      <td>11</td>\n",
       "      <td>1</td>\n",
       "      <td>4</td>\n",
       "      <td>35848</td>\n",
       "      <td>1</td>\n",
       "      <td>259200</td>\n",
       "      <td>-1</td>\n",
       "      <td>...</td>\n",
       "      <td>-1</td>\n",
       "      <td>-1</td>\n",
       "      <td>-1</td>\n",
       "      <td>-1</td>\n",
       "      <td>-1</td>\n",
       "      <td>-1</td>\n",
       "      <td>-1</td>\n",
       "      <td>-1</td>\n",
       "      <td>-1</td>\n",
       "      <td>-1</td>\n",
       "    </tr>\n",
       "    <tr>\n",
       "      <th>2</th>\n",
       "      <td>3</td>\n",
       "      <td>1136071207</td>\n",
       "      <td>117</td>\n",
       "      <td>201203</td>\n",
       "      <td>1</td>\n",
       "      <td>0</td>\n",
       "      <td>0</td>\n",
       "      <td>1</td>\n",
       "      <td>259200</td>\n",
       "      <td>-1</td>\n",
       "      <td>...</td>\n",
       "      <td>-1</td>\n",
       "      <td>-1</td>\n",
       "      <td>-1</td>\n",
       "      <td>-1</td>\n",
       "      <td>-1</td>\n",
       "      <td>-1</td>\n",
       "      <td>-1</td>\n",
       "      <td>-1</td>\n",
       "      <td>-1</td>\n",
       "      <td>-1</td>\n",
       "    </tr>\n",
       "    <tr>\n",
       "      <th>3</th>\n",
       "      <td>4</td>\n",
       "      <td>1136071267</td>\n",
       "      <td>4406</td>\n",
       "      <td>196985</td>\n",
       "      <td>1</td>\n",
       "      <td>0</td>\n",
       "      <td>0</td>\n",
       "      <td>1</td>\n",
       "      <td>259200</td>\n",
       "      <td>-1</td>\n",
       "      <td>...</td>\n",
       "      <td>-1</td>\n",
       "      <td>-1</td>\n",
       "      <td>-1</td>\n",
       "      <td>-1</td>\n",
       "      <td>-1</td>\n",
       "      <td>-1</td>\n",
       "      <td>-1</td>\n",
       "      <td>-1</td>\n",
       "      <td>-1</td>\n",
       "      <td>-1</td>\n",
       "    </tr>\n",
       "    <tr>\n",
       "      <th>4</th>\n",
       "      <td>5</td>\n",
       "      <td>1136071269</td>\n",
       "      <td>202516</td>\n",
       "      <td>19520</td>\n",
       "      <td>1</td>\n",
       "      <td>18731</td>\n",
       "      <td>522268</td>\n",
       "      <td>1</td>\n",
       "      <td>259200</td>\n",
       "      <td>-1</td>\n",
       "      <td>...</td>\n",
       "      <td>-1</td>\n",
       "      <td>-1</td>\n",
       "      <td>-1</td>\n",
       "      <td>-1</td>\n",
       "      <td>-1</td>\n",
       "      <td>-1</td>\n",
       "      <td>-1</td>\n",
       "      <td>-1</td>\n",
       "      <td>-1</td>\n",
       "      <td>-1</td>\n",
       "    </tr>\n",
       "  </tbody>\n",
       "</table>\n",
       "<p>5 rows × 29 columns</p>\n",
       "</div>"
      ],
      "text/plain": [
       "   JobID  SubmitTime  WaitTime  RunTime   NProcs  AverageCPUTimeUsed  \\\n",
       "0      1  1136070024    203761    138467       1              138371   \n",
       "1      2  1136070690         0        11       1                   4   \n",
       "2      3  1136071207       117    201203       1                   0   \n",
       "3      4  1136071267      4406    196985       1                   0   \n",
       "4      5  1136071269    202516     19520       1               18731   \n",
       "\n",
       "   Used Memory  ReqNProcs  ReqTime:   ReqMemory  ...  JobStructureParams  \\\n",
       "0        98652          1     259200         -1  ...                  -1   \n",
       "1        35848          1     259200         -1  ...                  -1   \n",
       "2            0          1     259200         -1  ...                  -1   \n",
       "3            0          1     259200         -1  ...                  -1   \n",
       "4       522268          1     259200         -1  ...                  -1   \n",
       "\n",
       "  UsedNetwork UsedLocalDiskSpace UsedResources ReqPlatform  ReqNetwork  \\\n",
       "0          -1                 -1            -1          -1          -1   \n",
       "1          -1                 -1            -1          -1          -1   \n",
       "2          -1                 -1            -1          -1          -1   \n",
       "3          -1                 -1            -1          -1          -1   \n",
       "4          -1                 -1            -1          -1          -1   \n",
       "\n",
       "  ReqLocalDiskSpace ReqResources  VOID  ProjectID  \n",
       "0                -1           -1    -1         -1  \n",
       "1                -1           -1    -1         -1  \n",
       "2                -1           -1    -1         -1  \n",
       "3                -1           -1    -1         -1  \n",
       "4                -1           -1    -1         -1  \n",
       "\n",
       "[5 rows x 29 columns]"
      ]
     },
     "execution_count": 2,
     "metadata": {},
     "output_type": "execute_result"
    }
   ],
   "source": [
    "df = pd.read_csv('processes_datasets.csv')\n",
    "print(\"Shape:\", df.shape)\n",
    "df.head()"
   ]
  },
  {
   "cell_type": "code",
   "execution_count": 3,
   "metadata": {
    "colab": {
     "base_uri": "https://localhost:8080/"
    },
    "id": "FEnsuvxxFKt3",
    "outputId": "97589415-d6f7-4750-91a2-f86883db34b9"
   },
   "outputs": [
    {
     "name": "stdout",
     "output_type": "stream",
     "text": [
      "<class 'pandas.core.frame.DataFrame'>\n",
      "RangeIndex: 404176 entries, 0 to 404175\n",
      "Data columns (total 29 columns):\n",
      " #   Column              Non-Null Count   Dtype \n",
      "---  ------              --------------   ----- \n",
      " 0   JobID               404176 non-null  int64 \n",
      " 1   SubmitTime          404176 non-null  int64 \n",
      " 2   WaitTime            404176 non-null  int64 \n",
      " 3   RunTime             404176 non-null  int64 \n",
      " 4   NProcs              404176 non-null  int64 \n",
      " 5   AverageCPUTimeUsed  404176 non-null  int64 \n",
      " 6   Used Memory         404176 non-null  int64 \n",
      " 7   ReqNProcs           404176 non-null  int64 \n",
      " 8   ReqTime:            404176 non-null  int64 \n",
      " 9   ReqMemory           404176 non-null  int64 \n",
      " 10  Status              404176 non-null  int64 \n",
      " 11  UserID              404176 non-null  object\n",
      " 12  GroupID             404176 non-null  object\n",
      " 13  ExecutableID        404176 non-null  object\n",
      " 14  QueueID             404176 non-null  object\n",
      " 15  PartitionID         404176 non-null  int64 \n",
      " 16  OrigSiteID          404176 non-null  object\n",
      " 17  LastRunSiteID       404176 non-null  object\n",
      " 18  JobStructure        404176 non-null  int64 \n",
      " 19  JobStructureParams  404176 non-null  int64 \n",
      " 20  UsedNetwork         404176 non-null  int64 \n",
      " 21  UsedLocalDiskSpace  404176 non-null  int64 \n",
      " 22  UsedResources       404176 non-null  int64 \n",
      " 23  ReqPlatform         404176 non-null  int64 \n",
      " 24  ReqNetwork          404176 non-null  int64 \n",
      " 25  ReqLocalDiskSpace   404176 non-null  int64 \n",
      " 26  ReqResources        404176 non-null  int64 \n",
      " 27  VOID                404176 non-null  int64 \n",
      " 28  ProjectID           404176 non-null  int64 \n",
      "dtypes: int64(23), object(6)\n",
      "memory usage: 89.4+ MB\n"
     ]
    }
   ],
   "source": [
    "df.info()"
   ]
  },
  {
   "cell_type": "code",
   "execution_count": 4,
   "metadata": {
    "colab": {
     "base_uri": "https://localhost:8080/"
    },
    "id": "OYGtRIsjFUgt",
    "outputId": "0e1269f6-b559-4e17-8ee0-ccf792cf7e59"
   },
   "outputs": [
    {
     "data": {
      "text/plain": [
       "Index(['JobID', 'SubmitTime', 'WaitTime', 'RunTime ', 'NProcs',\n",
       "       'AverageCPUTimeUsed', 'Used Memory', 'ReqNProcs', 'ReqTime: ',\n",
       "       'ReqMemory', 'Status', 'UserID', 'GroupID', 'ExecutableID', 'QueueID',\n",
       "       'PartitionID', 'OrigSiteID', 'LastRunSiteID', 'JobStructure',\n",
       "       'JobStructureParams', 'UsedNetwork', 'UsedLocalDiskSpace',\n",
       "       'UsedResources', 'ReqPlatform', 'ReqNetwork', 'ReqLocalDiskSpace',\n",
       "       'ReqResources', 'VOID', 'ProjectID'],\n",
       "      dtype='object')"
      ]
     },
     "execution_count": 4,
     "metadata": {},
     "output_type": "execute_result"
    }
   ],
   "source": [
    "df.columns"
   ]
  },
  {
   "cell_type": "markdown",
   "metadata": {
    "id": "vOw1jQPnFb35"
   },
   "source": [
    "## **1.3: Drop Columns with All -1**"
   ]
  },
  {
   "cell_type": "code",
   "execution_count": 5,
   "metadata": {
    "colab": {
     "base_uri": "https://localhost:8080/"
    },
    "id": "C_PDA8zyFaAV",
    "outputId": "f5628b43-2a9e-49df-f839-8eb3dfd1aafd"
   },
   "outputs": [
    {
     "name": "stdout",
     "output_type": "stream",
     "text": [
      "Columns retained: ['JobID', 'SubmitTime', 'WaitTime', 'RunTime ', 'NProcs', 'AverageCPUTimeUsed', 'Used Memory', 'ReqNProcs', 'ReqTime: ', 'ReqMemory', 'Status', 'UserID', 'GroupID', 'ExecutableID', 'QueueID', 'PartitionID', 'OrigSiteID', 'LastRunSiteID']\n",
      "Shape: (404176, 18)\n"
     ]
    }
   ],
   "source": [
    "# Drop columns where all values are -1 (last 11 attributes)\n",
    "df_filtered = df.loc[:, (df != -1).any(axis=0)]\n",
    "print(\"Columns retained:\", df_filtered.columns.tolist())\n",
    "print(\"Shape:\", df_filtered.shape)"
   ]
  },
  {
   "cell_type": "code",
   "execution_count": 6,
   "metadata": {},
   "outputs": [
    {
     "data": {
      "text/html": [
       "<div>\n",
       "<style scoped>\n",
       "    .dataframe tbody tr th:only-of-type {\n",
       "        vertical-align: middle;\n",
       "    }\n",
       "\n",
       "    .dataframe tbody tr th {\n",
       "        vertical-align: top;\n",
       "    }\n",
       "\n",
       "    .dataframe thead th {\n",
       "        text-align: right;\n",
       "    }\n",
       "</style>\n",
       "<table border=\"1\" class=\"dataframe\">\n",
       "  <thead>\n",
       "    <tr style=\"text-align: right;\">\n",
       "      <th></th>\n",
       "      <th>JobID</th>\n",
       "      <th>SubmitTime</th>\n",
       "      <th>WaitTime</th>\n",
       "      <th>RunTime</th>\n",
       "      <th>NProcs</th>\n",
       "      <th>AverageCPUTimeUsed</th>\n",
       "      <th>Used Memory</th>\n",
       "      <th>ReqNProcs</th>\n",
       "      <th>ReqTime:</th>\n",
       "      <th>ReqMemory</th>\n",
       "      <th>Status</th>\n",
       "      <th>UserID</th>\n",
       "      <th>GroupID</th>\n",
       "      <th>ExecutableID</th>\n",
       "      <th>QueueID</th>\n",
       "      <th>PartitionID</th>\n",
       "      <th>OrigSiteID</th>\n",
       "      <th>LastRunSiteID</th>\n",
       "    </tr>\n",
       "  </thead>\n",
       "  <tbody>\n",
       "    <tr>\n",
       "      <th>0</th>\n",
       "      <td>1</td>\n",
       "      <td>1136070024</td>\n",
       "      <td>203761</td>\n",
       "      <td>138467</td>\n",
       "      <td>1</td>\n",
       "      <td>138371</td>\n",
       "      <td>98652</td>\n",
       "      <td>1</td>\n",
       "      <td>259200</td>\n",
       "      <td>-1</td>\n",
       "      <td>1</td>\n",
       "      <td>U2004S1</td>\n",
       "      <td>G3</td>\n",
       "      <td>X1</td>\n",
       "      <td>Q5</td>\n",
       "      <td>1</td>\n",
       "      <td>clrlcgce02</td>\n",
       "      <td>clrlcgce02</td>\n",
       "    </tr>\n",
       "    <tr>\n",
       "      <th>1</th>\n",
       "      <td>2</td>\n",
       "      <td>1136070690</td>\n",
       "      <td>0</td>\n",
       "      <td>11</td>\n",
       "      <td>1</td>\n",
       "      <td>4</td>\n",
       "      <td>35848</td>\n",
       "      <td>1</td>\n",
       "      <td>259200</td>\n",
       "      <td>-1</td>\n",
       "      <td>1</td>\n",
       "      <td>U1023S0</td>\n",
       "      <td>G1</td>\n",
       "      <td>X1</td>\n",
       "      <td>Q1</td>\n",
       "      <td>1</td>\n",
       "      <td>clrlcgce01</td>\n",
       "      <td>clrlcgce01</td>\n",
       "    </tr>\n",
       "    <tr>\n",
       "      <th>2</th>\n",
       "      <td>3</td>\n",
       "      <td>1136071207</td>\n",
       "      <td>117</td>\n",
       "      <td>201203</td>\n",
       "      <td>1</td>\n",
       "      <td>0</td>\n",
       "      <td>0</td>\n",
       "      <td>1</td>\n",
       "      <td>259200</td>\n",
       "      <td>-1</td>\n",
       "      <td>1</td>\n",
       "      <td>U2035S1</td>\n",
       "      <td>G6</td>\n",
       "      <td>X1</td>\n",
       "      <td>Q2</td>\n",
       "      <td>1</td>\n",
       "      <td>clrlcgce02</td>\n",
       "      <td>clrlcgce02</td>\n",
       "    </tr>\n",
       "    <tr>\n",
       "      <th>3</th>\n",
       "      <td>4</td>\n",
       "      <td>1136071267</td>\n",
       "      <td>4406</td>\n",
       "      <td>196985</td>\n",
       "      <td>1</td>\n",
       "      <td>0</td>\n",
       "      <td>0</td>\n",
       "      <td>1</td>\n",
       "      <td>259200</td>\n",
       "      <td>-1</td>\n",
       "      <td>1</td>\n",
       "      <td>U2035S1</td>\n",
       "      <td>G6</td>\n",
       "      <td>X1</td>\n",
       "      <td>Q2</td>\n",
       "      <td>1</td>\n",
       "      <td>clrlcgce02</td>\n",
       "      <td>clrlcgce02</td>\n",
       "    </tr>\n",
       "    <tr>\n",
       "      <th>4</th>\n",
       "      <td>5</td>\n",
       "      <td>1136071269</td>\n",
       "      <td>202516</td>\n",
       "      <td>19520</td>\n",
       "      <td>1</td>\n",
       "      <td>18731</td>\n",
       "      <td>522268</td>\n",
       "      <td>1</td>\n",
       "      <td>259200</td>\n",
       "      <td>-1</td>\n",
       "      <td>1</td>\n",
       "      <td>U2035S1</td>\n",
       "      <td>G6</td>\n",
       "      <td>X1</td>\n",
       "      <td>Q2</td>\n",
       "      <td>1</td>\n",
       "      <td>clrlcgce02</td>\n",
       "      <td>clrlcgce02</td>\n",
       "    </tr>\n",
       "    <tr>\n",
       "      <th>...</th>\n",
       "      <td>...</td>\n",
       "      <td>...</td>\n",
       "      <td>...</td>\n",
       "      <td>...</td>\n",
       "      <td>...</td>\n",
       "      <td>...</td>\n",
       "      <td>...</td>\n",
       "      <td>...</td>\n",
       "      <td>...</td>\n",
       "      <td>...</td>\n",
       "      <td>...</td>\n",
       "      <td>...</td>\n",
       "      <td>...</td>\n",
       "      <td>...</td>\n",
       "      <td>...</td>\n",
       "      <td>...</td>\n",
       "      <td>...</td>\n",
       "      <td>...</td>\n",
       "    </tr>\n",
       "    <tr>\n",
       "      <th>404171</th>\n",
       "      <td>404172</td>\n",
       "      <td>1167603618</td>\n",
       "      <td>2</td>\n",
       "      <td>56</td>\n",
       "      <td>1</td>\n",
       "      <td>18</td>\n",
       "      <td>0</td>\n",
       "      <td>1</td>\n",
       "      <td>259200</td>\n",
       "      <td>-1</td>\n",
       "      <td>1</td>\n",
       "      <td>U41</td>\n",
       "      <td>G8</td>\n",
       "      <td>X1</td>\n",
       "      <td>Q13</td>\n",
       "      <td>1</td>\n",
       "      <td>clrlcgce02</td>\n",
       "      <td>clrlcgce02</td>\n",
       "    </tr>\n",
       "    <tr>\n",
       "      <th>404172</th>\n",
       "      <td>404173</td>\n",
       "      <td>1167603624</td>\n",
       "      <td>1</td>\n",
       "      <td>57</td>\n",
       "      <td>1</td>\n",
       "      <td>17</td>\n",
       "      <td>61084</td>\n",
       "      <td>1</td>\n",
       "      <td>259200</td>\n",
       "      <td>-1</td>\n",
       "      <td>1</td>\n",
       "      <td>U41</td>\n",
       "      <td>G8</td>\n",
       "      <td>X1</td>\n",
       "      <td>Q13</td>\n",
       "      <td>1</td>\n",
       "      <td>clrlcgce01</td>\n",
       "      <td>clrlcgce01</td>\n",
       "    </tr>\n",
       "    <tr>\n",
       "      <th>404173</th>\n",
       "      <td>404174</td>\n",
       "      <td>1167603637</td>\n",
       "      <td>1</td>\n",
       "      <td>45</td>\n",
       "      <td>1</td>\n",
       "      <td>17</td>\n",
       "      <td>0</td>\n",
       "      <td>1</td>\n",
       "      <td>259200</td>\n",
       "      <td>-1</td>\n",
       "      <td>1</td>\n",
       "      <td>U41</td>\n",
       "      <td>G8</td>\n",
       "      <td>X1</td>\n",
       "      <td>Q12</td>\n",
       "      <td>1</td>\n",
       "      <td>opgc</td>\n",
       "      <td>opgc</td>\n",
       "    </tr>\n",
       "    <tr>\n",
       "      <th>404174</th>\n",
       "      <td>404175</td>\n",
       "      <td>1167603747</td>\n",
       "      <td>1</td>\n",
       "      <td>43</td>\n",
       "      <td>1</td>\n",
       "      <td>17</td>\n",
       "      <td>0</td>\n",
       "      <td>1</td>\n",
       "      <td>259200</td>\n",
       "      <td>-1</td>\n",
       "      <td>1</td>\n",
       "      <td>U41</td>\n",
       "      <td>G8</td>\n",
       "      <td>X1</td>\n",
       "      <td>Q9</td>\n",
       "      <td>2</td>\n",
       "      <td>iut15</td>\n",
       "      <td>iut15</td>\n",
       "    </tr>\n",
       "    <tr>\n",
       "      <th>404175</th>\n",
       "      <td>404176</td>\n",
       "      <td>1167605790</td>\n",
       "      <td>52</td>\n",
       "      <td>-1</td>\n",
       "      <td>0</td>\n",
       "      <td>-1</td>\n",
       "      <td>-1</td>\n",
       "      <td>1</td>\n",
       "      <td>-1</td>\n",
       "      <td>-1</td>\n",
       "      <td>5</td>\n",
       "      <td>-1</td>\n",
       "      <td>-1</td>\n",
       "      <td>-1</td>\n",
       "      <td>Q5</td>\n",
       "      <td>1</td>\n",
       "      <td>clrlcgce02</td>\n",
       "      <td>clrlcgce02</td>\n",
       "    </tr>\n",
       "  </tbody>\n",
       "</table>\n",
       "<p>404176 rows × 18 columns</p>\n",
       "</div>"
      ],
      "text/plain": [
       "         JobID  SubmitTime  WaitTime  RunTime   NProcs  AverageCPUTimeUsed  \\\n",
       "0            1  1136070024    203761    138467       1              138371   \n",
       "1            2  1136070690         0        11       1                   4   \n",
       "2            3  1136071207       117    201203       1                   0   \n",
       "3            4  1136071267      4406    196985       1                   0   \n",
       "4            5  1136071269    202516     19520       1               18731   \n",
       "...        ...         ...       ...       ...     ...                 ...   \n",
       "404171  404172  1167603618         2        56       1                  18   \n",
       "404172  404173  1167603624         1        57       1                  17   \n",
       "404173  404174  1167603637         1        45       1                  17   \n",
       "404174  404175  1167603747         1        43       1                  17   \n",
       "404175  404176  1167605790        52        -1       0                  -1   \n",
       "\n",
       "        Used Memory  ReqNProcs  ReqTime:   ReqMemory  Status   UserID GroupID  \\\n",
       "0             98652          1     259200         -1       1  U2004S1      G3   \n",
       "1             35848          1     259200         -1       1  U1023S0      G1   \n",
       "2                 0          1     259200         -1       1  U2035S1      G6   \n",
       "3                 0          1     259200         -1       1  U2035S1      G6   \n",
       "4            522268          1     259200         -1       1  U2035S1      G6   \n",
       "...             ...        ...        ...        ...     ...      ...     ...   \n",
       "404171            0          1     259200         -1       1      U41      G8   \n",
       "404172        61084          1     259200         -1       1      U41      G8   \n",
       "404173            0          1     259200         -1       1      U41      G8   \n",
       "404174            0          1     259200         -1       1      U41      G8   \n",
       "404175           -1          1         -1         -1       5       -1      -1   \n",
       "\n",
       "       ExecutableID QueueID  PartitionID  OrigSiteID LastRunSiteID  \n",
       "0                X1      Q5            1  clrlcgce02    clrlcgce02  \n",
       "1                X1      Q1            1  clrlcgce01    clrlcgce01  \n",
       "2                X1      Q2            1  clrlcgce02    clrlcgce02  \n",
       "3                X1      Q2            1  clrlcgce02    clrlcgce02  \n",
       "4                X1      Q2            1  clrlcgce02    clrlcgce02  \n",
       "...             ...     ...          ...         ...           ...  \n",
       "404171           X1     Q13            1  clrlcgce02    clrlcgce02  \n",
       "404172           X1     Q13            1  clrlcgce01    clrlcgce01  \n",
       "404173           X1     Q12            1        opgc          opgc  \n",
       "404174           X1      Q9            2       iut15         iut15  \n",
       "404175           -1      Q5            1  clrlcgce02    clrlcgce02  \n",
       "\n",
       "[404176 rows x 18 columns]"
      ]
     },
     "execution_count": 6,
     "metadata": {},
     "output_type": "execute_result"
    }
   ],
   "source": [
    "df_filtered"
   ]
  },
  {
   "cell_type": "code",
   "execution_count": 7,
   "metadata": {},
   "outputs": [
    {
     "data": {
      "text/plain": [
       "JobStructureParams\n",
       "-1    404176\n",
       "Name: count, dtype: int64"
      ]
     },
     "execution_count": 7,
     "metadata": {},
     "output_type": "execute_result"
    }
   ],
   "source": [
    "df['JobStructureParams'].value_counts()"
   ]
  },
  {
   "cell_type": "code",
   "execution_count": 8,
   "metadata": {},
   "outputs": [
    {
     "data": {
      "text/html": [
       "<div>\n",
       "<style scoped>\n",
       "    .dataframe tbody tr th:only-of-type {\n",
       "        vertical-align: middle;\n",
       "    }\n",
       "\n",
       "    .dataframe tbody tr th {\n",
       "        vertical-align: top;\n",
       "    }\n",
       "\n",
       "    .dataframe thead th {\n",
       "        text-align: right;\n",
       "    }\n",
       "</style>\n",
       "<table border=\"1\" class=\"dataframe\">\n",
       "  <thead>\n",
       "    <tr style=\"text-align: right;\">\n",
       "      <th></th>\n",
       "      <th>JobID</th>\n",
       "      <th>SubmitTime</th>\n",
       "      <th>WaitTime</th>\n",
       "      <th>RunTime</th>\n",
       "      <th>NProcs</th>\n",
       "      <th>AverageCPUTimeUsed</th>\n",
       "      <th>Used Memory</th>\n",
       "      <th>ReqNProcs</th>\n",
       "      <th>ReqTime:</th>\n",
       "      <th>ReqMemory</th>\n",
       "      <th>Status</th>\n",
       "      <th>UserID</th>\n",
       "      <th>GroupID</th>\n",
       "      <th>ExecutableID</th>\n",
       "      <th>QueueID</th>\n",
       "      <th>PartitionID</th>\n",
       "      <th>OrigSiteID</th>\n",
       "      <th>LastRunSiteID</th>\n",
       "    </tr>\n",
       "  </thead>\n",
       "  <tbody>\n",
       "    <tr>\n",
       "      <th>0</th>\n",
       "      <td>1</td>\n",
       "      <td>1136070024</td>\n",
       "      <td>203761</td>\n",
       "      <td>138467</td>\n",
       "      <td>1</td>\n",
       "      <td>138371</td>\n",
       "      <td>98652</td>\n",
       "      <td>1</td>\n",
       "      <td>259200</td>\n",
       "      <td>-1</td>\n",
       "      <td>1</td>\n",
       "      <td>U2004S1</td>\n",
       "      <td>G3</td>\n",
       "      <td>X1</td>\n",
       "      <td>Q5</td>\n",
       "      <td>1</td>\n",
       "      <td>clrlcgce02</td>\n",
       "      <td>clrlcgce02</td>\n",
       "    </tr>\n",
       "    <tr>\n",
       "      <th>1</th>\n",
       "      <td>2</td>\n",
       "      <td>1136070690</td>\n",
       "      <td>0</td>\n",
       "      <td>11</td>\n",
       "      <td>1</td>\n",
       "      <td>4</td>\n",
       "      <td>35848</td>\n",
       "      <td>1</td>\n",
       "      <td>259200</td>\n",
       "      <td>-1</td>\n",
       "      <td>1</td>\n",
       "      <td>U1023S0</td>\n",
       "      <td>G1</td>\n",
       "      <td>X1</td>\n",
       "      <td>Q1</td>\n",
       "      <td>1</td>\n",
       "      <td>clrlcgce01</td>\n",
       "      <td>clrlcgce01</td>\n",
       "    </tr>\n",
       "    <tr>\n",
       "      <th>2</th>\n",
       "      <td>3</td>\n",
       "      <td>1136071207</td>\n",
       "      <td>117</td>\n",
       "      <td>201203</td>\n",
       "      <td>1</td>\n",
       "      <td>0</td>\n",
       "      <td>0</td>\n",
       "      <td>1</td>\n",
       "      <td>259200</td>\n",
       "      <td>-1</td>\n",
       "      <td>1</td>\n",
       "      <td>U2035S1</td>\n",
       "      <td>G6</td>\n",
       "      <td>X1</td>\n",
       "      <td>Q2</td>\n",
       "      <td>1</td>\n",
       "      <td>clrlcgce02</td>\n",
       "      <td>clrlcgce02</td>\n",
       "    </tr>\n",
       "    <tr>\n",
       "      <th>3</th>\n",
       "      <td>4</td>\n",
       "      <td>1136071267</td>\n",
       "      <td>4406</td>\n",
       "      <td>196985</td>\n",
       "      <td>1</td>\n",
       "      <td>0</td>\n",
       "      <td>0</td>\n",
       "      <td>1</td>\n",
       "      <td>259200</td>\n",
       "      <td>-1</td>\n",
       "      <td>1</td>\n",
       "      <td>U2035S1</td>\n",
       "      <td>G6</td>\n",
       "      <td>X1</td>\n",
       "      <td>Q2</td>\n",
       "      <td>1</td>\n",
       "      <td>clrlcgce02</td>\n",
       "      <td>clrlcgce02</td>\n",
       "    </tr>\n",
       "    <tr>\n",
       "      <th>4</th>\n",
       "      <td>5</td>\n",
       "      <td>1136071269</td>\n",
       "      <td>202516</td>\n",
       "      <td>19520</td>\n",
       "      <td>1</td>\n",
       "      <td>18731</td>\n",
       "      <td>522268</td>\n",
       "      <td>1</td>\n",
       "      <td>259200</td>\n",
       "      <td>-1</td>\n",
       "      <td>1</td>\n",
       "      <td>U2035S1</td>\n",
       "      <td>G6</td>\n",
       "      <td>X1</td>\n",
       "      <td>Q2</td>\n",
       "      <td>1</td>\n",
       "      <td>clrlcgce02</td>\n",
       "      <td>clrlcgce02</td>\n",
       "    </tr>\n",
       "  </tbody>\n",
       "</table>\n",
       "</div>"
      ],
      "text/plain": [
       "   JobID  SubmitTime  WaitTime  RunTime   NProcs  AverageCPUTimeUsed  \\\n",
       "0      1  1136070024    203761    138467       1              138371   \n",
       "1      2  1136070690         0        11       1                   4   \n",
       "2      3  1136071207       117    201203       1                   0   \n",
       "3      4  1136071267      4406    196985       1                   0   \n",
       "4      5  1136071269    202516     19520       1               18731   \n",
       "\n",
       "   Used Memory  ReqNProcs  ReqTime:   ReqMemory  Status   UserID GroupID  \\\n",
       "0        98652          1     259200         -1       1  U2004S1      G3   \n",
       "1        35848          1     259200         -1       1  U1023S0      G1   \n",
       "2            0          1     259200         -1       1  U2035S1      G6   \n",
       "3            0          1     259200         -1       1  U2035S1      G6   \n",
       "4       522268          1     259200         -1       1  U2035S1      G6   \n",
       "\n",
       "  ExecutableID QueueID  PartitionID  OrigSiteID LastRunSiteID  \n",
       "0           X1      Q5            1  clrlcgce02    clrlcgce02  \n",
       "1           X1      Q1            1  clrlcgce01    clrlcgce01  \n",
       "2           X1      Q2            1  clrlcgce02    clrlcgce02  \n",
       "3           X1      Q2            1  clrlcgce02    clrlcgce02  \n",
       "4           X1      Q2            1  clrlcgce02    clrlcgce02  "
      ]
     },
     "execution_count": 8,
     "metadata": {},
     "output_type": "execute_result"
    }
   ],
   "source": [
    "df_filtered.head()"
   ]
  },
  {
   "cell_type": "code",
   "execution_count": 9,
   "metadata": {},
   "outputs": [
    {
     "data": {
      "text/plain": [
       "ReqMemory\n",
       "-1          368345\n",
       " 819200      29369\n",
       " 1126400      5542\n",
       " 614400        714\n",
       " 512000        186\n",
       " 524288         17\n",
       " 262144          2\n",
       " 921600          1\n",
       "Name: count, dtype: int64"
      ]
     },
     "execution_count": 9,
     "metadata": {},
     "output_type": "execute_result"
    }
   ],
   "source": [
    "df_filtered['ReqMemory'].value_counts()"
   ]
  },
  {
   "cell_type": "markdown",
   "metadata": {
    "id": "myNEDMG8M70k"
   },
   "source": [
    "## **1.4 Drop columns containing IDs**"
   ]
  },
  {
   "cell_type": "code",
   "execution_count": 10,
   "metadata": {
    "colab": {
     "base_uri": "https://localhost:8080/"
    },
    "id": "dbhkFn6_NQBx",
    "outputId": "6a2fc26e-4ac6-4321-b9ba-966718eac136"
   },
   "outputs": [
    {
     "name": "stdout",
     "output_type": "stream",
     "text": [
      "Shape: (404176, 10)\n"
     ]
    },
    {
     "name": "stderr",
     "output_type": "stream",
     "text": [
      "/tmp/ipykernel_5367/3821454813.py:5: SettingWithCopyWarning: \n",
      "A value is trying to be set on a copy of a slice from a DataFrame\n",
      "\n",
      "See the caveats in the documentation: https://pandas.pydata.org/pandas-docs/stable/user_guide/indexing.html#returning-a-view-versus-a-copy\n",
      "  df_filtered.drop(columns=[col for col in columns_to_drop if col in df_filtered.columns], inplace=True)\n"
     ]
    }
   ],
   "source": [
    "columns_to_drop = [\n",
    "    'JobID', 'UserID', 'GroupID', 'QueueID',\n",
    "    'ExecutableID', 'PartitionID', 'OrigSiteID', 'LastRunSiteID'\n",
    "]\n",
    "df_filtered.drop(columns=[col for col in columns_to_drop if col in df_filtered.columns], inplace=True)\n",
    "print(\"Shape:\", df_filtered.shape)"
   ]
  },
  {
   "cell_type": "code",
   "execution_count": 11,
   "metadata": {
    "colab": {
     "base_uri": "https://localhost:8080/"
    },
    "id": "mqRNvjEyOBAZ",
    "outputId": "cbfb7bff-dd73-43e3-d607-e34d95098aea"
   },
   "outputs": [
    {
     "data": {
      "text/plain": [
       "Index(['SubmitTime', 'WaitTime', 'RunTime ', 'NProcs', 'AverageCPUTimeUsed',\n",
       "       'Used Memory', 'ReqNProcs', 'ReqTime: ', 'ReqMemory', 'Status'],\n",
       "      dtype='object')"
      ]
     },
     "execution_count": 11,
     "metadata": {},
     "output_type": "execute_result"
    }
   ],
   "source": [
    "df_filtered.columns"
   ]
  },
  {
   "cell_type": "code",
   "execution_count": 12,
   "metadata": {
    "colab": {
     "base_uri": "https://localhost:8080/"
    },
    "id": "TXuYiG1jTPuE",
    "outputId": "1bfad668-ad2c-4adb-aa23-242de06b1382"
   },
   "outputs": [
    {
     "name": "stdout",
     "output_type": "stream",
     "text": [
      "Shape: (5000, 10)\n"
     ]
    }
   ],
   "source": [
    "# using first 5000 datatpoints\n",
    "df_filtered = df_filtered.head(5000)\n",
    "print(\"Shape:\", df_filtered.shape)"
   ]
  },
  {
   "cell_type": "code",
   "execution_count": 13,
   "metadata": {
    "colab": {
     "base_uri": "https://localhost:8080/"
    },
    "id": "PWd62Dlithja",
    "outputId": "72d9aa7c-4ce0-4206-b2a5-59f53e32af6d"
   },
   "outputs": [
    {
     "name": "stdout",
     "output_type": "stream",
     "text": [
      "Shape: (4340, 10)\n"
     ]
    }
   ],
   "source": [
    "# exclude process with no burst time i.e., -1\n",
    "df_filtered = df_filtered[df_filtered['RunTime '] != -1]\n",
    "print(\"Shape:\", df_filtered.shape)"
   ]
  },
  {
   "cell_type": "code",
   "execution_count": 14,
   "metadata": {},
   "outputs": [
    {
     "data": {
      "text/html": [
       "<div>\n",
       "<style scoped>\n",
       "    .dataframe tbody tr th:only-of-type {\n",
       "        vertical-align: middle;\n",
       "    }\n",
       "\n",
       "    .dataframe tbody tr th {\n",
       "        vertical-align: top;\n",
       "    }\n",
       "\n",
       "    .dataframe thead th {\n",
       "        text-align: right;\n",
       "    }\n",
       "</style>\n",
       "<table border=\"1\" class=\"dataframe\">\n",
       "  <thead>\n",
       "    <tr style=\"text-align: right;\">\n",
       "      <th></th>\n",
       "      <th>SubmitTime</th>\n",
       "      <th>WaitTime</th>\n",
       "      <th>RunTime</th>\n",
       "      <th>NProcs</th>\n",
       "      <th>AverageCPUTimeUsed</th>\n",
       "      <th>Used Memory</th>\n",
       "      <th>ReqNProcs</th>\n",
       "      <th>ReqTime:</th>\n",
       "      <th>ReqMemory</th>\n",
       "      <th>Status</th>\n",
       "    </tr>\n",
       "  </thead>\n",
       "  <tbody>\n",
       "    <tr>\n",
       "      <th>0</th>\n",
       "      <td>1136070024</td>\n",
       "      <td>203761</td>\n",
       "      <td>138467</td>\n",
       "      <td>1</td>\n",
       "      <td>138371</td>\n",
       "      <td>98652</td>\n",
       "      <td>1</td>\n",
       "      <td>259200</td>\n",
       "      <td>-1</td>\n",
       "      <td>1</td>\n",
       "    </tr>\n",
       "    <tr>\n",
       "      <th>1</th>\n",
       "      <td>1136070690</td>\n",
       "      <td>0</td>\n",
       "      <td>11</td>\n",
       "      <td>1</td>\n",
       "      <td>4</td>\n",
       "      <td>35848</td>\n",
       "      <td>1</td>\n",
       "      <td>259200</td>\n",
       "      <td>-1</td>\n",
       "      <td>1</td>\n",
       "    </tr>\n",
       "    <tr>\n",
       "      <th>2</th>\n",
       "      <td>1136071207</td>\n",
       "      <td>117</td>\n",
       "      <td>201203</td>\n",
       "      <td>1</td>\n",
       "      <td>0</td>\n",
       "      <td>0</td>\n",
       "      <td>1</td>\n",
       "      <td>259200</td>\n",
       "      <td>-1</td>\n",
       "      <td>1</td>\n",
       "    </tr>\n",
       "    <tr>\n",
       "      <th>3</th>\n",
       "      <td>1136071267</td>\n",
       "      <td>4406</td>\n",
       "      <td>196985</td>\n",
       "      <td>1</td>\n",
       "      <td>0</td>\n",
       "      <td>0</td>\n",
       "      <td>1</td>\n",
       "      <td>259200</td>\n",
       "      <td>-1</td>\n",
       "      <td>1</td>\n",
       "    </tr>\n",
       "    <tr>\n",
       "      <th>4</th>\n",
       "      <td>1136071269</td>\n",
       "      <td>202516</td>\n",
       "      <td>19520</td>\n",
       "      <td>1</td>\n",
       "      <td>18731</td>\n",
       "      <td>522268</td>\n",
       "      <td>1</td>\n",
       "      <td>259200</td>\n",
       "      <td>-1</td>\n",
       "      <td>1</td>\n",
       "    </tr>\n",
       "  </tbody>\n",
       "</table>\n",
       "</div>"
      ],
      "text/plain": [
       "   SubmitTime  WaitTime  RunTime   NProcs  AverageCPUTimeUsed  Used Memory  \\\n",
       "0  1136070024    203761    138467       1              138371        98652   \n",
       "1  1136070690         0        11       1                   4        35848   \n",
       "2  1136071207       117    201203       1                   0            0   \n",
       "3  1136071267      4406    196985       1                   0            0   \n",
       "4  1136071269    202516     19520       1               18731       522268   \n",
       "\n",
       "   ReqNProcs  ReqTime:   ReqMemory  Status  \n",
       "0          1     259200         -1       1  \n",
       "1          1     259200         -1       1  \n",
       "2          1     259200         -1       1  \n",
       "3          1     259200         -1       1  \n",
       "4          1     259200         -1       1  "
      ]
     },
     "execution_count": 14,
     "metadata": {},
     "output_type": "execute_result"
    }
   ],
   "source": [
    "df_filtered.head()"
   ]
  },
  {
   "cell_type": "markdown",
   "metadata": {
    "id": "H8OA1nW-R0uq"
   },
   "source": [
    "## **1.5 Split dataset**"
   ]
  },
  {
   "cell_type": "code",
   "execution_count": 15,
   "metadata": {
    "id": "seuwYv9yR7Sd"
   },
   "outputs": [],
   "source": [
    "# Target\n",
    "y = df_filtered['RunTime ']\n",
    "\n",
    "# Features\n",
    "X = df_filtered.drop(columns=['RunTime '])\n",
    "\n",
    "# Split\n",
    "X_train, X_test, y_train, y_test = train_test_split(X, y, test_size=0.2, random_state=0,shuffle=False)"
   ]
  },
  {
   "cell_type": "code",
   "execution_count": 16,
   "metadata": {
    "colab": {
     "base_uri": "https://localhost:8080/"
    },
    "id": "IAIWprAiTleS",
    "outputId": "2f301c63-f330-4e88-8ae9-7574bdd471bd"
   },
   "outputs": [
    {
     "name": "stdout",
     "output_type": "stream",
     "text": [
      "X_train shape: (3472, 9)\n",
      "y_train shape: (3472,)\n",
      "X_test shape: (868, 9)\n",
      "y_test shape: (868,)\n"
     ]
    }
   ],
   "source": [
    "print(\"X_train shape:\", X_train.shape)\n",
    "print(\"y_train shape:\", y_train.shape)\n",
    "print(\"X_test shape:\", X_test.shape)\n",
    "print(\"y_test shape:\", y_test.shape)"
   ]
  },
  {
   "cell_type": "code",
   "execution_count": 17,
   "metadata": {},
   "outputs": [
    {
     "data": {
      "text/html": [
       "<div>\n",
       "<style scoped>\n",
       "    .dataframe tbody tr th:only-of-type {\n",
       "        vertical-align: middle;\n",
       "    }\n",
       "\n",
       "    .dataframe tbody tr th {\n",
       "        vertical-align: top;\n",
       "    }\n",
       "\n",
       "    .dataframe thead th {\n",
       "        text-align: right;\n",
       "    }\n",
       "</style>\n",
       "<table border=\"1\" class=\"dataframe\">\n",
       "  <thead>\n",
       "    <tr style=\"text-align: right;\">\n",
       "      <th></th>\n",
       "      <th>SubmitTime</th>\n",
       "      <th>WaitTime</th>\n",
       "      <th>NProcs</th>\n",
       "      <th>AverageCPUTimeUsed</th>\n",
       "      <th>Used Memory</th>\n",
       "      <th>ReqNProcs</th>\n",
       "      <th>ReqTime:</th>\n",
       "      <th>ReqMemory</th>\n",
       "      <th>Status</th>\n",
       "    </tr>\n",
       "  </thead>\n",
       "  <tbody>\n",
       "    <tr>\n",
       "      <th>0</th>\n",
       "      <td>1136070024</td>\n",
       "      <td>203761</td>\n",
       "      <td>1</td>\n",
       "      <td>138371</td>\n",
       "      <td>98652</td>\n",
       "      <td>1</td>\n",
       "      <td>259200</td>\n",
       "      <td>-1</td>\n",
       "      <td>1</td>\n",
       "    </tr>\n",
       "    <tr>\n",
       "      <th>1</th>\n",
       "      <td>1136070690</td>\n",
       "      <td>0</td>\n",
       "      <td>1</td>\n",
       "      <td>4</td>\n",
       "      <td>35848</td>\n",
       "      <td>1</td>\n",
       "      <td>259200</td>\n",
       "      <td>-1</td>\n",
       "      <td>1</td>\n",
       "    </tr>\n",
       "    <tr>\n",
       "      <th>2</th>\n",
       "      <td>1136071207</td>\n",
       "      <td>117</td>\n",
       "      <td>1</td>\n",
       "      <td>0</td>\n",
       "      <td>0</td>\n",
       "      <td>1</td>\n",
       "      <td>259200</td>\n",
       "      <td>-1</td>\n",
       "      <td>1</td>\n",
       "    </tr>\n",
       "    <tr>\n",
       "      <th>3</th>\n",
       "      <td>1136071267</td>\n",
       "      <td>4406</td>\n",
       "      <td>1</td>\n",
       "      <td>0</td>\n",
       "      <td>0</td>\n",
       "      <td>1</td>\n",
       "      <td>259200</td>\n",
       "      <td>-1</td>\n",
       "      <td>1</td>\n",
       "    </tr>\n",
       "    <tr>\n",
       "      <th>4</th>\n",
       "      <td>1136071269</td>\n",
       "      <td>202516</td>\n",
       "      <td>1</td>\n",
       "      <td>18731</td>\n",
       "      <td>522268</td>\n",
       "      <td>1</td>\n",
       "      <td>259200</td>\n",
       "      <td>-1</td>\n",
       "      <td>1</td>\n",
       "    </tr>\n",
       "    <tr>\n",
       "      <th>...</th>\n",
       "      <td>...</td>\n",
       "      <td>...</td>\n",
       "      <td>...</td>\n",
       "      <td>...</td>\n",
       "      <td>...</td>\n",
       "      <td>...</td>\n",
       "      <td>...</td>\n",
       "      <td>...</td>\n",
       "      <td>...</td>\n",
       "    </tr>\n",
       "    <tr>\n",
       "      <th>3969</th>\n",
       "      <td>1137075251</td>\n",
       "      <td>1</td>\n",
       "      <td>1</td>\n",
       "      <td>242</td>\n",
       "      <td>256324</td>\n",
       "      <td>1</td>\n",
       "      <td>259200</td>\n",
       "      <td>-1</td>\n",
       "      <td>1</td>\n",
       "    </tr>\n",
       "    <tr>\n",
       "      <th>3970</th>\n",
       "      <td>1137075296</td>\n",
       "      <td>2</td>\n",
       "      <td>1</td>\n",
       "      <td>4</td>\n",
       "      <td>0</td>\n",
       "      <td>1</td>\n",
       "      <td>259200</td>\n",
       "      <td>-1</td>\n",
       "      <td>1</td>\n",
       "    </tr>\n",
       "    <tr>\n",
       "      <th>3971</th>\n",
       "      <td>1137075311</td>\n",
       "      <td>1</td>\n",
       "      <td>1</td>\n",
       "      <td>14</td>\n",
       "      <td>0</td>\n",
       "      <td>1</td>\n",
       "      <td>259200</td>\n",
       "      <td>-1</td>\n",
       "      <td>1</td>\n",
       "    </tr>\n",
       "    <tr>\n",
       "      <th>3972</th>\n",
       "      <td>1137075370</td>\n",
       "      <td>1</td>\n",
       "      <td>1</td>\n",
       "      <td>4</td>\n",
       "      <td>0</td>\n",
       "      <td>1</td>\n",
       "      <td>259200</td>\n",
       "      <td>-1</td>\n",
       "      <td>1</td>\n",
       "    </tr>\n",
       "    <tr>\n",
       "      <th>3973</th>\n",
       "      <td>1137075372</td>\n",
       "      <td>2</td>\n",
       "      <td>1</td>\n",
       "      <td>48</td>\n",
       "      <td>0</td>\n",
       "      <td>1</td>\n",
       "      <td>259200</td>\n",
       "      <td>-1</td>\n",
       "      <td>1</td>\n",
       "    </tr>\n",
       "  </tbody>\n",
       "</table>\n",
       "<p>3472 rows × 9 columns</p>\n",
       "</div>"
      ],
      "text/plain": [
       "      SubmitTime  WaitTime  NProcs  AverageCPUTimeUsed  Used Memory  \\\n",
       "0     1136070024    203761       1              138371        98652   \n",
       "1     1136070690         0       1                   4        35848   \n",
       "2     1136071207       117       1                   0            0   \n",
       "3     1136071267      4406       1                   0            0   \n",
       "4     1136071269    202516       1               18731       522268   \n",
       "...          ...       ...     ...                 ...          ...   \n",
       "3969  1137075251         1       1                 242       256324   \n",
       "3970  1137075296         2       1                   4            0   \n",
       "3971  1137075311         1       1                  14            0   \n",
       "3972  1137075370         1       1                   4            0   \n",
       "3973  1137075372         2       1                  48            0   \n",
       "\n",
       "      ReqNProcs  ReqTime:   ReqMemory  Status  \n",
       "0             1     259200         -1       1  \n",
       "1             1     259200         -1       1  \n",
       "2             1     259200         -1       1  \n",
       "3             1     259200         -1       1  \n",
       "4             1     259200         -1       1  \n",
       "...         ...        ...        ...     ...  \n",
       "3969          1     259200         -1       1  \n",
       "3970          1     259200         -1       1  \n",
       "3971          1     259200         -1       1  \n",
       "3972          1     259200         -1       1  \n",
       "3973          1     259200         -1       1  \n",
       "\n",
       "[3472 rows x 9 columns]"
      ]
     },
     "execution_count": 17,
     "metadata": {},
     "output_type": "execute_result"
    }
   ],
   "source": [
    "X_train"
   ]
  },
  {
   "cell_type": "markdown",
   "metadata": {
    "id": "EW39CRyPi2zr"
   },
   "source": [
    "## **1.6: Normalize data**"
   ]
  },
  {
   "cell_type": "code",
   "execution_count": 18,
   "metadata": {
    "id": "1gYnqsapi7oc"
   },
   "outputs": [],
   "source": [
    "from sklearn.preprocessing import MinMaxScaler\n",
    "\n",
    "# Normalize minmax\n",
    "scaler_X = MinMaxScaler()\n",
    "X_train = scaler_X.fit_transform(X_train)\n",
    "X_test = scaler_X.transform(X_test)"
   ]
  },
  {
   "cell_type": "code",
   "execution_count": 19,
   "metadata": {},
   "outputs": [
    {
     "data": {
      "text/plain": [
       "array([[0.00000000e+00, 7.74899259e-02, 0.00000000e+00, ...,\n",
       "        1.00000000e+00, 0.00000000e+00, 2.00000000e-01],\n",
       "       [6.62457179e-04, 0.00000000e+00, 0.00000000e+00, ...,\n",
       "        1.00000000e+00, 0.00000000e+00, 2.00000000e-01],\n",
       "       [1.17670697e-03, 4.44948804e-05, 0.00000000e+00, ...,\n",
       "        1.00000000e+00, 0.00000000e+00, 2.00000000e-01],\n",
       "       ...,\n",
       "       [9.99939324e-01, 3.80298123e-07, 0.00000000e+00, ...,\n",
       "        1.00000000e+00, 0.00000000e+00, 2.00000000e-01],\n",
       "       [9.99998011e-01, 3.80298123e-07, 0.00000000e+00, ...,\n",
       "        1.00000000e+00, 0.00000000e+00, 2.00000000e-01],\n",
       "       [1.00000000e+00, 7.60596247e-07, 0.00000000e+00, ...,\n",
       "        1.00000000e+00, 0.00000000e+00, 2.00000000e-01]], shape=(3472, 9))"
      ]
     },
     "execution_count": 19,
     "metadata": {},
     "output_type": "execute_result"
    }
   ],
   "source": [
    "X_train"
   ]
  },
  {
   "cell_type": "markdown",
   "metadata": {},
   "source": [
    "## Reshape data for RNN"
   ]
  },
  {
   "cell_type": "code",
   "execution_count": 20,
   "metadata": {},
   "outputs": [],
   "source": [
    "time_steps = 3  # You can tune this\n",
    "X_train_rnn = X_train.reshape((X_train.shape[0], time_steps, -1))\n",
    "X_test_rnn = X_test.reshape((X_test.shape[0], time_steps, -1))"
   ]
  },
  {
   "cell_type": "code",
   "execution_count": 21,
   "metadata": {},
   "outputs": [
    {
     "data": {
      "text/plain": [
       "(3472, 3, 3)"
      ]
     },
     "execution_count": 21,
     "metadata": {},
     "output_type": "execute_result"
    }
   ],
   "source": [
    "X_train_rnn.shape"
   ]
  },
  {
   "cell_type": "code",
   "execution_count": 22,
   "metadata": {},
   "outputs": [
    {
     "data": {
      "text/plain": [
       "(868, 3, 3)"
      ]
     },
     "execution_count": 22,
     "metadata": {},
     "output_type": "execute_result"
    }
   ],
   "source": [
    "X_test_rnn.shape"
   ]
  },
  {
   "cell_type": "code",
   "execution_count": null,
   "metadata": {},
   "outputs": [],
   "source": []
  },
  {
   "cell_type": "markdown",
   "metadata": {
    "id": "GOPJ7o06MF8C"
   },
   "source": [
    "# **2. Train MLP Regressor on Filtered Data**"
   ]
  },
  {
   "cell_type": "markdown",
   "metadata": {
    "id": "WVAIVNcKMNj7"
   },
   "source": [
    "## **2.1: Define Dataset and DataLoaders**"
   ]
  },
  {
   "cell_type": "code",
   "execution_count": 23,
   "metadata": {
    "id": "rxHbUWGtMJEG"
   },
   "outputs": [],
   "source": [
    "import torch\n",
    "from torch.utils.data import Dataset, DataLoader\n",
    "\n",
    "# Custom dataset class\n",
    "class ProcessDataset(Dataset):\n",
    "    def __init__(self, X, y):\n",
    "        self.X = torch.tensor(X, dtype=torch.float32)\n",
    "        self.y = torch.tensor(y.to_numpy(), dtype=torch.float32).view(-1, 1)\n",
    "\n",
    "    def __len__(self):\n",
    "        return len(self.X)\n",
    "\n",
    "    def __getitem__(self, idx):\n",
    "        return self.X[idx], self.y[idx]\n",
    "\n",
    "# Create datasets and loaders\n",
    "train_ds = ProcessDataset(X_train_rnn, y_train)\n",
    "test_ds = ProcessDataset(X_test_rnn, y_test)\n",
    "\n",
    "train_loader = DataLoader(train_ds, batch_size=64, shuffle=True)\n",
    "test_loader = DataLoader(test_ds, batch_size=64)"
   ]
  },
  {
   "cell_type": "markdown",
   "metadata": {},
   "source": [
    "## Define the RNN Regressor in PyTorch"
   ]
  },
  {
   "cell_type": "code",
   "execution_count": 24,
   "metadata": {},
   "outputs": [],
   "source": [
    "class LSTMRegressor(nn.Module):\n",
    "    def __init__(self, input_size, hidden_size=64, num_layers=3, dropout=0.3):\n",
    "        super(LSTMRegressor, self).__init__()\n",
    "        self.lstm = nn.LSTM(input_size=input_size,\n",
    "                            hidden_size=hidden_size,\n",
    "                            num_layers=num_layers,\n",
    "                            dropout=dropout,\n",
    "                            batch_first=True)\n",
    "        self.fc = nn.Linear(hidden_size, 1)\n",
    "\n",
    "    def forward(self, x):\n",
    "        out, _ = self.lstm(x)          # out: (batch, time_step, hidden_size)\n",
    "        out = out[:, -1, :]            # take output from last time step\n",
    "        return self.fc(out)"
   ]
  },
  {
   "cell_type": "code",
   "execution_count": null,
   "metadata": {},
   "outputs": [],
   "source": []
  },
  {
   "cell_type": "markdown",
   "metadata": {
    "id": "r3CiiRiBhRVZ"
   },
   "source": [
    "## **2.3: Training Function**"
   ]
  },
  {
   "cell_type": "code",
   "execution_count": 25,
   "metadata": {
    "id": "5n7hj3MUhQEe"
   },
   "outputs": [],
   "source": [
    "def train_model(model, dataloader, optimizer, criterion, device, num_epochs=50):\n",
    "    model.train()\n",
    "    epoch_losses = []\n",
    "\n",
    "    for epoch in range(num_epochs):\n",
    "        running_loss = 0.0\n",
    "        for X_batch, y_batch in dataloader:\n",
    "            X_batch, y_batch = X_batch.to(device), y_batch.to(device)\n",
    "            optimizer.zero_grad()\n",
    "            y_pred = model(X_batch)\n",
    "            loss = criterion(y_pred, y_batch)\n",
    "            loss.backward()\n",
    "            optimizer.step()\n",
    "            running_loss += loss.item()\n",
    "\n",
    "        avg_loss = running_loss / len(dataloader)\n",
    "        epoch_losses.append(avg_loss)\n",
    "        if (epoch + 1) % 100 == 0:\n",
    "            print(f\"Epoch {epoch+1}/{num_epochs}, Loss: {avg_loss:.4f}\")\n",
    "\n",
    "    return epoch_losses"
   ]
  },
  {
   "cell_type": "markdown",
   "metadata": {
    "id": "yAT68sixhYJY"
   },
   "source": [
    "## **2.4: Evaluation Metrics**"
   ]
  },
  {
   "cell_type": "code",
   "execution_count": 26,
   "metadata": {
    "id": "vnfj-9trhVu9"
   },
   "outputs": [],
   "source": [
    "def evaluate_model(model, dataloader, y_true, device):\n",
    "    model.eval()\n",
    "    preds = []\n",
    "\n",
    "    with torch.no_grad():\n",
    "        for X_batch, _ in dataloader:\n",
    "            X_batch = X_batch.to(device)\n",
    "            y_pred = model(X_batch)\n",
    "            preds.append(y_pred.cpu().numpy())\n",
    "\n",
    "    y_pred = np.vstack(preds).flatten()\n",
    "    y_true = y_true.values.flatten()\n",
    "\n",
    "    mae = mean_absolute_error(y_true, y_pred)\n",
    "    r2 = r2_score(y_true, y_pred)\n",
    "    cc = np.corrcoef(y_true, y_pred)[0, 1]\n",
    "    rae = np.sum(np.abs(y_true - y_pred)) / np.sum(np.abs(y_true - np.mean(y_true)))\n",
    "\n",
    "    return {\n",
    "        'MAE': mae,\n",
    "        'R2': r2,\n",
    "        'CC': cc,\n",
    "        'RAE (%)': rae * 100\n",
    "    }"
   ]
  },
  {
   "cell_type": "code",
   "execution_count": 27,
   "metadata": {},
   "outputs": [
    {
     "name": "stdout",
     "output_type": "stream",
     "text": [
      "Using device: cpu\n"
     ]
    }
   ],
   "source": [
    "device = torch.device(\"cuda\" if torch.cuda.is_available() else \"cpu\")\n",
    "print(\"Using device:\", device)"
   ]
  },
  {
   "cell_type": "markdown",
   "metadata": {
    "id": "qaf_fyhBhh4_"
   },
   "source": [
    "## **2.5: Train RNN Model**"
   ]
  },
  {
   "cell_type": "code",
   "execution_count": 46,
   "metadata": {
    "colab": {
     "base_uri": "https://localhost:8080/"
    },
    "id": "5AnTYncDhdaT",
    "outputId": "98abf9dd-8ae3-488e-81f6-3c0e3039a698"
   },
   "outputs": [
    {
     "name": "stdout",
     "output_type": "stream",
     "text": [
      "Using device: cpu\n",
      "Epoch 100/15000, Loss: 1931887313.4545\n",
      "Epoch 200/15000, Loss: 1917601598.8364\n",
      "Epoch 300/15000, Loss: 1901169604.6545\n",
      "Epoch 400/15000, Loss: 1907684427.6364\n",
      "Epoch 500/15000, Loss: 1892396073.8909\n",
      "Epoch 600/15000, Loss: 1863221853.0909\n",
      "Epoch 700/15000, Loss: 1845099332.6545\n",
      "Epoch 800/15000, Loss: 1866202944.0000\n",
      "Epoch 900/15000, Loss: 1833573320.1455\n",
      "Epoch 1000/15000, Loss: 1803966881.7455\n",
      "Epoch 1100/15000, Loss: 1807283424.5818\n",
      "Epoch 1200/15000, Loss: 1841098179.4909\n",
      "Epoch 1300/15000, Loss: 1811285566.8364\n",
      "Epoch 1400/15000, Loss: 1765728897.1636\n",
      "Epoch 1500/15000, Loss: 1757133103.7091\n",
      "Epoch 1600/15000, Loss: 1758351866.1818\n",
      "Epoch 1700/15000, Loss: 1720392706.3273\n",
      "Epoch 1800/15000, Loss: 1724727382.1091\n",
      "Epoch 1900/15000, Loss: 1690873683.4909\n",
      "Epoch 2000/15000, Loss: 1754887887.1273\n",
      "Epoch 2100/15000, Loss: 1696176306.0364\n",
      "Epoch 2200/15000, Loss: 1669896238.5455\n",
      "Epoch 2300/15000, Loss: 1693483532.8000\n",
      "Epoch 2400/15000, Loss: 1660409101.9636\n",
      "Epoch 2500/15000, Loss: 1649209402.1818\n",
      "Epoch 2600/15000, Loss: 1630695364.6545\n",
      "Epoch 2700/15000, Loss: 1615372001.4545\n",
      "Epoch 2800/15000, Loss: 1619213290.4727\n",
      "Epoch 2900/15000, Loss: 1631776261.8182\n",
      "Epoch 3000/15000, Loss: 1612757174.6909\n",
      "Epoch 3100/15000, Loss: 1590796858.1818\n",
      "Epoch 3200/15000, Loss: 1611411931.9273\n",
      "Epoch 3300/15000, Loss: 1581072577.1636\n",
      "Epoch 3400/15000, Loss: 1610936006.9818\n",
      "Epoch 3500/15000, Loss: 1580260276.3636\n",
      "Epoch 3600/15000, Loss: 1577360460.8000\n",
      "Epoch 3700/15000, Loss: 1560407411.2000\n",
      "Epoch 3800/15000, Loss: 1551718605.9636\n",
      "Epoch 3900/15000, Loss: 1547894841.0182\n",
      "Epoch 4000/15000, Loss: 1535969056.5818\n",
      "Epoch 4100/15000, Loss: 1534737414.9818\n",
      "Epoch 4200/15000, Loss: 1512615969.7455\n",
      "Epoch 4300/15000, Loss: 1514688177.4545\n",
      "Epoch 4400/15000, Loss: 1514507084.8000\n",
      "Epoch 4500/15000, Loss: 1510977459.2000\n",
      "Epoch 4600/15000, Loss: 1499714896.2909\n",
      "Epoch 4700/15000, Loss: 1518070562.9091\n",
      "Epoch 4800/15000, Loss: 1492466707.7818\n",
      "Epoch 4900/15000, Loss: 1501694866.6182\n",
      "Epoch 5000/15000, Loss: 1496782170.7636\n",
      "Epoch 5100/15000, Loss: 1477385653.5273\n",
      "Epoch 5200/15000, Loss: 1486768011.6364\n",
      "Epoch 5300/15000, Loss: 1506782056.7273\n",
      "Epoch 5400/15000, Loss: 1468474951.2727\n",
      "Epoch 5500/15000, Loss: 1472419521.1636\n",
      "Epoch 5600/15000, Loss: 1530098611.2000\n",
      "Epoch 5700/15000, Loss: 1483265175.2727\n",
      "Epoch 5800/15000, Loss: 1479961099.6364\n",
      "Epoch 5900/15000, Loss: 1476350255.7091\n",
      "Epoch 6000/15000, Loss: 1463404315.9273\n",
      "Epoch 6100/15000, Loss: 1478486602.4727\n",
      "Epoch 6200/15000, Loss: 1484969733.8182\n",
      "Epoch 6300/15000, Loss: 1272224069.8182\n",
      "Epoch 6400/15000, Loss: 1239038900.3636\n",
      "Epoch 6500/15000, Loss: 1230815881.3091\n",
      "Epoch 6600/15000, Loss: 1206371382.1091\n",
      "Epoch 6700/15000, Loss: 1214558529.7455\n",
      "Epoch 6800/15000, Loss: 1186078905.6727\n",
      "Epoch 6900/15000, Loss: 1176975921.7455\n",
      "Epoch 7000/15000, Loss: 1162542327.0545\n",
      "Epoch 7100/15000, Loss: 1153165894.7636\n",
      "Epoch 7200/15000, Loss: 1171003344.8727\n",
      "Epoch 7300/15000, Loss: 1144890621.6727\n",
      "Epoch 7400/15000, Loss: 1137021379.4909\n",
      "Epoch 7500/15000, Loss: 1167644557.3818\n",
      "Epoch 7600/15000, Loss: 1118404491.0545\n",
      "Epoch 7700/15000, Loss: 1104481484.8000\n",
      "Epoch 7800/15000, Loss: 1110503414.1091\n",
      "Epoch 7900/15000, Loss: 1088561740.2182\n",
      "Epoch 8000/15000, Loss: 1077208609.1636\n",
      "Epoch 8100/15000, Loss: 1062750785.7455\n",
      "Epoch 8200/15000, Loss: 1050056869.1273\n",
      "Epoch 8300/15000, Loss: 1042443789.3818\n",
      "Epoch 8400/15000, Loss: 1039773813.5273\n",
      "Epoch 8500/15000, Loss: 1080479097.6000\n",
      "Epoch 8600/15000, Loss: 1014469917.8545\n",
      "Epoch 8700/15000, Loss: 1017328140.8000\n",
      "Epoch 8800/15000, Loss: 998261688.7273\n",
      "Epoch 8900/15000, Loss: 999251390.5455\n",
      "Epoch 9000/15000, Loss: 987570925.9636\n",
      "Epoch 9100/15000, Loss: 975619793.4545\n",
      "Epoch 9200/15000, Loss: 971782331.9273\n",
      "Epoch 9300/15000, Loss: 963627268.6545\n",
      "Epoch 9400/15000, Loss: 962006592.2909\n",
      "Epoch 9500/15000, Loss: 945380476.5091\n",
      "Epoch 9600/15000, Loss: 963849625.0182\n",
      "Epoch 9700/15000, Loss: 929558894.5455\n",
      "Epoch 9800/15000, Loss: 928420870.9818\n",
      "Epoch 9900/15000, Loss: 913368563.4909\n",
      "Epoch 10000/15000, Loss: 903530380.8000\n",
      "Epoch 10100/15000, Loss: 900768972.2182\n",
      "Epoch 10200/15000, Loss: 893604775.5636\n",
      "Epoch 10300/15000, Loss: 899429499.3455\n",
      "Epoch 10400/15000, Loss: 867769164.9295\n",
      "Epoch 10500/15000, Loss: 871280514.9091\n",
      "Epoch 10600/15000, Loss: 857125666.3273\n",
      "Epoch 10700/15000, Loss: 850689764.6545\n",
      "Epoch 10800/15000, Loss: 845665348.3636\n",
      "Epoch 10900/15000, Loss: 839365944.7273\n",
      "Epoch 11000/15000, Loss: 836049303.8545\n",
      "Epoch 11100/15000, Loss: 822587855.1273\n",
      "Epoch 11200/15000, Loss: 813646885.8182\n",
      "Epoch 11300/15000, Loss: 805423371.9273\n",
      "Epoch 11400/15000, Loss: 804078803.4909\n",
      "Epoch 11500/15000, Loss: 813967762.3273\n",
      "Epoch 11600/15000, Loss: 791541885.0909\n",
      "Epoch 11700/15000, Loss: 779355377.1636\n",
      "Epoch 11800/15000, Loss: 777227742.6909\n",
      "Epoch 11900/15000, Loss: 762496264.1455\n",
      "Epoch 12000/15000, Loss: 761243559.2727\n",
      "Epoch 12100/15000, Loss: 751051218.0364\n",
      "Epoch 12200/15000, Loss: 744972453.2364\n",
      "Epoch 12300/15000, Loss: 769898971.0545\n",
      "Epoch 12400/15000, Loss: 728806497.7455\n",
      "Epoch 12500/15000, Loss: 722263657.6000\n",
      "Epoch 12600/15000, Loss: 748928254.2545\n",
      "Epoch 12700/15000, Loss: 719713814.9818\n",
      "Epoch 12800/15000, Loss: 699787346.6341\n",
      "Epoch 12900/15000, Loss: 709092078.8364\n",
      "Epoch 13000/15000, Loss: 693083154.9091\n",
      "Epoch 13100/15000, Loss: 691389609.0182\n",
      "Epoch 13200/15000, Loss: 681364186.1818\n",
      "Epoch 13300/15000, Loss: 674899935.4182\n",
      "Epoch 13400/15000, Loss: 672938416.2909\n",
      "Epoch 13500/15000, Loss: 662586017.4545\n",
      "Epoch 13600/15000, Loss: 658084585.3091\n",
      "Epoch 13700/15000, Loss: 649852497.7455\n",
      "Epoch 13800/15000, Loss: 642486509.3818\n",
      "Epoch 13900/15000, Loss: 640050866.4727\n",
      "Epoch 14000/15000, Loss: 639335269.6727\n",
      "Epoch 14100/15000, Loss: 626469449.8909\n",
      "Epoch 14200/15000, Loss: 618897625.0182\n",
      "Epoch 14300/15000, Loss: 625893950.6909\n",
      "Epoch 14400/15000, Loss: 614443315.7818\n",
      "Epoch 14500/15000, Loss: 604608884.0727\n",
      "Epoch 14600/15000, Loss: 592143735.5479\n",
      "Epoch 14700/15000, Loss: 593448936.1455\n",
      "Epoch 14800/15000, Loss: 586605042.3273\n",
      "Epoch 14900/15000, Loss: 580418171.6364\n",
      "Epoch 15000/15000, Loss: 577553430.9818\n"
     ]
    }
   ],
   "source": [
    "device = torch.device(\"cuda\" if torch.cuda.is_available() else \"cpu\")\n",
    "print(\"Using device:\", device)\n",
    "\n",
    "input_size = X_train_rnn.shape[2]\n",
    "\n",
    "# number of epochs\n",
    "num_epochs = 15000\n",
    "\n",
    "# initialize model and optimizer\n",
    "model = LSTMRegressor(input_size=input_size, hidden_size=64, num_layers=3, dropout=0.3).to(device)\n",
    "optimizer = torch.optim.Adam(model.parameters(), lr=0.001)\n",
    "criterion = nn.MSELoss()\n",
    "\n",
    "# Train and collect loss per epoch\n",
    "loss_history = train_model(model, train_loader, optimizer, criterion, device, num_epochs=num_epochs)\n",
    "torch.save(model.state_dict(), 'rnn_burst_predictor.pth')"
   ]
  },
  {
   "cell_type": "code",
   "execution_count": 47,
   "metadata": {
    "id": "pPeV97Hbko1C"
   },
   "outputs": [],
   "source": [
    "import matplotlib.pyplot as plt\n",
    "plt.rcParams['font.family'] = 'serif'\n",
    "plt.rcParams['font.serif'] = ['Times New Roman'] + plt.rcParams['font.serif']\n",
    "\n",
    "def loss_plot(num_epochs, loss_history):\n",
    "    plt.figure(figsize=(10, 6))\n",
    "    plt.plot(range(1, num_epochs + 1), loss_history)\n",
    "    plt.title(\"Training Loss Curve (MLP)\")\n",
    "    plt.xlabel(\"Epoch\")\n",
    "    plt.ylabel(\"MSE Loss\")\n",
    "    plt.grid(True)\n",
    "    plt.show()"
   ]
  },
  {
   "cell_type": "code",
   "execution_count": 48,
   "metadata": {
    "colab": {
     "base_uri": "https://localhost:8080/",
     "height": 141
    },
    "id": "1ssAQ0OGtyYF",
    "outputId": "8bc728ee-024f-4a43-9265-a845c5f7b390"
   },
   "outputs": [
    {
     "data": {
      "image/png": "[encoded data removed]",
      "text/plain": [
       "<Figure size 1000x600 with 1 Axes>"
      ]
     },
     "metadata": {},
     "output_type": "display_data"
    }
   ],
   "source": [
    "loss_plot(num_epochs, loss_history)"
   ]
  },
  {
   "cell_type": "markdown",
   "metadata": {
    "id": "znKRgvq-nYsY"
   },
   "source": [
    "# **3. Model Evaluation and Prediction**"
   ]
  },
  {
   "cell_type": "markdown",
   "metadata": {
    "id": "b_uVumkBnj9q"
   },
   "source": [
    "## **3.1: Evaluation metrics**"
   ]
  },
  {
   "cell_type": "code",
   "execution_count": 49,
   "metadata": {
    "colab": {
     "base_uri": "https://localhost:8080/"
    },
    "id": "tPdY90_Ul_UO",
    "outputId": "00ee34eb-b916-4cf6-8932-37ab29b99eb7"
   },
   "outputs": [
    {
     "name": "stdout",
     "output_type": "stream",
     "text": [
      "Evaluation Metrics:\n",
      "MAE: 8425.2344\n",
      "R2: 0.6481\n",
      "CC: 0.9454\n",
      "RAE (%): 33.3693\n"
     ]
    }
   ],
   "source": [
    "# y_test must be a numpy array or torch tensor (already flattened)\n",
    "results = evaluate_model(model, test_loader, y_test, device)\n",
    "\n",
    "# Print results\n",
    "print(\"Evaluation Metrics:\")\n",
    "for k, v in results.items():\n",
    "    print(f\"{k}: {v:.4f}\")"
   ]
  },
  {
   "cell_type": "markdown",
   "metadata": {
    "id": "hetvEovunp2m"
   },
   "source": [
    "## **3.2: Prediction**"
   ]
  },
  {
   "cell_type": "code",
   "execution_count": 50,
   "metadata": {
    "id": "DWpAj0vNnsyV"
   },
   "outputs": [],
   "source": [
    "model.eval()\n",
    "predictions = []\n",
    "\n",
    "with torch.no_grad():\n",
    "    for X_batch, _ in test_loader:\n",
    "        X_batch = X_batch.to(device)\n",
    "        y_pred = model(X_batch)\n",
    "        predictions.append(y_pred.cpu().numpy())\n",
    "\n",
    "# Flatten into one array\n",
    "y_pred = np.vstack(predictions).flatten()"
   ]
  },
  {
   "cell_type": "code",
   "execution_count": 51,
   "metadata": {
    "id": "D077MfxDnvuf"
   },
   "outputs": [],
   "source": [
    "# Convert true y values to a flat array if not already\n",
    "y_true = y_test.values.flatten()"
   ]
  },
  {
   "cell_type": "code",
   "execution_count": 52,
   "metadata": {
    "colab": {
     "base_uri": "https://localhost:8080/",
     "height": 677
    },
    "id": "wCbSHxl6nxpd",
    "outputId": "5ba80b4c-276c-4861-9e81-7306485b0194"
   },
   "outputs": [
    {
     "data": {
      "text/html": [
       "<div>\n",
       "<style scoped>\n",
       "    .dataframe tbody tr th:only-of-type {\n",
       "        vertical-align: middle;\n",
       "    }\n",
       "\n",
       "    .dataframe tbody tr th {\n",
       "        vertical-align: top;\n",
       "    }\n",
       "\n",
       "    .dataframe thead th {\n",
       "        text-align: right;\n",
       "    }\n",
       "</style>\n",
       "<table border=\"1\" class=\"dataframe\">\n",
       "  <thead>\n",
       "    <tr style=\"text-align: right;\">\n",
       "      <th></th>\n",
       "      <th>Actual (RunTime)</th>\n",
       "      <th>Predicted (RunTime)</th>\n",
       "    </tr>\n",
       "  </thead>\n",
       "  <tbody>\n",
       "    <tr>\n",
       "      <th>0</th>\n",
       "      <td>20282</td>\n",
       "      <td>19994.980469</td>\n",
       "    </tr>\n",
       "    <tr>\n",
       "      <th>1</th>\n",
       "      <td>14</td>\n",
       "      <td>180.539993</td>\n",
       "    </tr>\n",
       "    <tr>\n",
       "      <th>2</th>\n",
       "      <td>20642</td>\n",
       "      <td>20274.330078</td>\n",
       "    </tr>\n",
       "    <tr>\n",
       "      <th>3</th>\n",
       "      <td>19709</td>\n",
       "      <td>20000.470703</td>\n",
       "    </tr>\n",
       "    <tr>\n",
       "      <th>4</th>\n",
       "      <td>28</td>\n",
       "      <td>180.539993</td>\n",
       "    </tr>\n",
       "    <tr>\n",
       "      <th>5</th>\n",
       "      <td>20914</td>\n",
       "      <td>20320.169922</td>\n",
       "    </tr>\n",
       "    <tr>\n",
       "      <th>6</th>\n",
       "      <td>20694</td>\n",
       "      <td>20426.609375</td>\n",
       "    </tr>\n",
       "    <tr>\n",
       "      <th>7</th>\n",
       "      <td>20327</td>\n",
       "      <td>20071.160156</td>\n",
       "    </tr>\n",
       "    <tr>\n",
       "      <th>8</th>\n",
       "      <td>19883</td>\n",
       "      <td>20042.119141</td>\n",
       "    </tr>\n",
       "    <tr>\n",
       "      <th>9</th>\n",
       "      <td>41</td>\n",
       "      <td>180.539993</td>\n",
       "    </tr>\n",
       "    <tr>\n",
       "      <th>10</th>\n",
       "      <td>20</td>\n",
       "      <td>180.539993</td>\n",
       "    </tr>\n",
       "    <tr>\n",
       "      <th>11</th>\n",
       "      <td>12</td>\n",
       "      <td>180.539993</td>\n",
       "    </tr>\n",
       "    <tr>\n",
       "      <th>12</th>\n",
       "      <td>20</td>\n",
       "      <td>180.539993</td>\n",
       "    </tr>\n",
       "    <tr>\n",
       "      <th>13</th>\n",
       "      <td>19</td>\n",
       "      <td>180.539993</td>\n",
       "    </tr>\n",
       "    <tr>\n",
       "      <th>14</th>\n",
       "      <td>18</td>\n",
       "      <td>180.539993</td>\n",
       "    </tr>\n",
       "    <tr>\n",
       "      <th>15</th>\n",
       "      <td>13</td>\n",
       "      <td>180.539993</td>\n",
       "    </tr>\n",
       "    <tr>\n",
       "      <th>16</th>\n",
       "      <td>12</td>\n",
       "      <td>180.539993</td>\n",
       "    </tr>\n",
       "    <tr>\n",
       "      <th>17</th>\n",
       "      <td>60</td>\n",
       "      <td>180.539993</td>\n",
       "    </tr>\n",
       "    <tr>\n",
       "      <th>18</th>\n",
       "      <td>18</td>\n",
       "      <td>180.539993</td>\n",
       "    </tr>\n",
       "    <tr>\n",
       "      <th>19</th>\n",
       "      <td>20</td>\n",
       "      <td>180.539993</td>\n",
       "    </tr>\n",
       "  </tbody>\n",
       "</table>\n",
       "</div>"
      ],
      "text/plain": [
       "    Actual (RunTime)  Predicted (RunTime)\n",
       "0              20282         19994.980469\n",
       "1                 14           180.539993\n",
       "2              20642         20274.330078\n",
       "3              19709         20000.470703\n",
       "4                 28           180.539993\n",
       "5              20914         20320.169922\n",
       "6              20694         20426.609375\n",
       "7              20327         20071.160156\n",
       "8              19883         20042.119141\n",
       "9                 41           180.539993\n",
       "10                20           180.539993\n",
       "11                12           180.539993\n",
       "12                20           180.539993\n",
       "13                19           180.539993\n",
       "14                18           180.539993\n",
       "15                13           180.539993\n",
       "16                12           180.539993\n",
       "17                60           180.539993\n",
       "18                18           180.539993\n",
       "19                20           180.539993"
      ]
     },
     "execution_count": 52,
     "metadata": {},
     "output_type": "execute_result"
    }
   ],
   "source": [
    "# Show a few examples\n",
    "import pandas as pd\n",
    "\n",
    "comparison_df = pd.DataFrame({\n",
    "    \"Actual (RunTime)\": y_true[20:40],\n",
    "    \"Predicted (RunTime)\": y_pred[20:40]\n",
    "})\n",
    "\n",
    "# Round for cleaner display\n",
    "comparison_df = comparison_df.round(2)\n",
    "\n",
    "# Display as table\n",
    "comparison_df"
   ]
  },
  {
   "cell_type": "code",
   "execution_count": 53,
   "metadata": {
    "id": "LnRcUBEj8Dpy"
   },
   "outputs": [],
   "source": [
    "def plot_mlp_predictions(model, dataloader, y_test_raw, device, title=\"MLP\"):\n",
    "    model.eval()\n",
    "    preds = []\n",
    "\n",
    "    with torch.no_grad():\n",
    "        for X_batch, _ in dataloader:\n",
    "            X_batch = X_batch.to(device)\n",
    "            y_pred = model(X_batch)\n",
    "            preds.append(y_pred.cpu().numpy())\n",
    "\n",
    "    y_pred = np.vstack(preds).flatten()\n",
    "    y_true = y_test_raw.values.flatten()\n",
    "\n",
    "    # Plot\n",
    "    plt.figure(figsize=(8, 6))\n",
    "    plt.scatter(y_true, y_pred, alpha=0.5)\n",
    "    plt.plot([y_true.min(), y_true.max()], [y_true.min(), y_true.max()],\n",
    "             'r--', label='Perfect Prediction')\n",
    "    plt.xlabel(\"Actual RunTime\")\n",
    "    plt.ylabel(\"Predicted RunTime\")\n",
    "    plt.title(f\"{title} - Actual vs Predicted\")\n",
    "    plt.legend()\n",
    "    plt.grid(True)\n",
    "    plt.show()\n"
   ]
  },
  {
   "cell_type": "code",
   "execution_count": 54,
   "metadata": {
    "colab": {
     "base_uri": "https://localhost:8080/",
     "height": 563
    },
    "id": "wfksUY9b8Kke",
    "outputId": "0caf5ed0-1adc-4f07-e64e-50ca23b22b84"
   },
   "outputs": [
    {
     "data": {
      "image/png": "[encoded data removed]",
      "text/plain": [
       "<Figure size 800x600 with 1 Axes>"
      ]
     },
     "metadata": {},
     "output_type": "display_data"
    }
   ],
   "source": [
    "plot_mlp_predictions(model, test_loader, y_test, device, title=\"MLP Regressor\")"
   ]
  },
  {
   "cell_type": "code",
   "execution_count": null,
   "metadata": {},
   "outputs": [],
   "source": []
  },
  {
   "cell_type": "code",
   "execution_count": null,
   "metadata": {},
   "outputs": [],
   "source": []
  },
  {
   "cell_type": "code",
   "execution_count": null,
   "metadata": {},
   "outputs": [],
   "source": []
  },
  {
   "cell_type": "code",
   "execution_count": null,
   "metadata": {},
   "outputs": [],
   "source": []
  }
 ],
 "metadata": {
  "colab": {
   "provenance": []
  },
  "kernelspec": {
   "display_name": "brustenv",
   "language": "python",
   "name": "brustenv"
  },
  "language_info": {
   "codemirror_mode": {
    "name": "ipython",
    "version": 3
   },
   "file_extension": ".py",
   "mimetype": "text/x-python",
   "name": "python",
   "nbconvert_exporter": "python",
   "pygments_lexer": "ipython3",
   "version": "3.10.12"
  }
 },
 "nbformat": 4,
 "nbformat_minor": 1
}
